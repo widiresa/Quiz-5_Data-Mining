{
  "nbformat": 4,
  "nbformat_minor": 0,
  "metadata": {
    "colab": {
      "name": "naivebayes.ipynb",
      "provenance": [],
      "collapsed_sections": []
    },
    "kernelspec": {
      "name": "python3",
      "display_name": "Python 3"
    },
    "language_info": {
      "name": "python"
    }
  },
  "cells": [
    {
      "cell_type": "code",
      "metadata": {
        "id": "rJ3hTLWsxzOP"
      },
      "source": [
        "import numpy as np\n",
        "import matplotlib.pyplot as plt\n",
        "import pandas as pd"
      ],
      "execution_count": 5,
      "outputs": []
    },
    {
      "cell_type": "code",
      "metadata": {
        "id": "P0mFsLpy3_wi"
      },
      "source": [
        "dataset = pd.read_csv('Twitter_Ads.csv')\n",
        "x = dataset.iloc[:, [2, 3]].values\n",
        "y = dataset.iloc[:, -1].values"
      ],
      "execution_count": 7,
      "outputs": []
    },
    {
      "cell_type": "code",
      "metadata": {
        "colab": {
          "base_uri": "https://localhost:8080/"
        },
        "id": "T-JMzy3D4E-e",
        "outputId": "54aa5059-92f0-43a0-f47c-ce168d3af51b"
      },
      "source": [
        "print(x)"
      ],
      "execution_count": 8,
      "outputs": [
        {
          "output_type": "stream",
          "text": [
            "[[2.56769196e+01 2.98514115e+04]\n",
            " [2.56496480e+09 5.53300601e+04]\n",
            " [3.24561067e+08 7.90490767e+04]\n",
            " [2.96873619e+01 4.10988788e+04]\n",
            " [3.32725720e+01 5.41270171e+04]\n",
            " [3.45308979e+01 3.02219371e+04]\n",
            " [5.20099460e+01 8.06426522e+04]\n",
            " [4.28813696e+01 6.19083982e+04]\n",
            " [2.56769196e+01 2.98514115e+04]\n",
            " [4.06982326e+01 3.42811188e+04]\n",
            " [5.40393248e+01 3.71433554e+04]\n",
            " [3.42497288e+01 3.73551128e+04]\n",
            " [2.50567822e+01 1.77599339e+04]\n",
            " [4.10959602e+01 4.94633813e+04]\n",
            " [2.47615633e+01 3.84844232e+04]\n",
            " [4.88701755e+01 3.47744441e+04]\n",
            " [2.78338319e+01 5.16444933e+04]\n",
            " [2.53136952e+01 4.37639976e+04]\n",
            " [4.65407082e+01 4.86634947e+04]\n",
            " [3.77165819e+01 6.46959770e+04]\n",
            " [3.24431111e+01 5.16776990e+04]\n",
            " [1.99366738e+01 3.42637885e+04]\n",
            " [3.98205393e+01 7.05033132e+04]\n",
            " [3.07288550e+01 6.70222730e+04]\n",
            " [2.40435827e+01 3.64747097e+04]\n",
            " [3.24431111e+01 5.16776990e+04]\n",
            " [1.71035757e+01 6.16617652e+04]\n",
            " [2.55977957e+01 5.36307638e+04]\n",
            " [4.22491897e+01 3.22150995e+04]\n",
            " [3.71359218e+01 5.17336572e+04]\n",
            " [1.99366738e+01 3.42637885e+04]\n",
            " [3.98205393e+01 7.05033132e+04]\n",
            " [3.07288550e+01 6.70222730e+04]\n",
            " [2.40435827e+01 3.64747097e+04]\n",
            " [3.67657158e+01 5.34644264e+04]\n",
            " [3.59575676e+01 2.36833077e+04]\n",
            " [4.19899262e+01 5.47269945e+04]\n",
            " [3.45416750e+01 7.81564644e+04]\n",
            " [2.48281717e+01 4.31269171e+04]\n",
            " [3.12469528e+01 7.60643837e+04]\n",
            " [3.60573969e+01 6.52029101e+04]\n",
            " [1.99109736e+01 3.28945211e+04]\n",
            " [2.24559772e+01 4.77700703e+04]\n",
            " [1.90893032e+01 3.92798893e+04]\n",
            " [1.88815858e+01 5.25189951e+04]\n",
            " [2.07144638e+01 3.39930522e+04]\n",
            " [2.74038095e+01 4.80260228e+04]\n",
            " [3.90490584e+01 7.35165789e+04]\n",
            " [2.48281717e+01 4.31269171e+04]\n",
            " [3.85916733e+01 5.45242749e+04]\n",
            " [3.05154930e+01 1.20660167e+04]\n",
            " [2.89448700e+01 2.98994691e+04]\n",
            " [4.09839628e+01 4.55914541e+04]\n",
            " [2.76038406e+01 3.22423240e+04]\n",
            " [6.00000000e+01 7.64991193e+04]\n",
            " [2.74320282e+01 4.08144763e+04]\n",
            " [2.63876221e+01 3.70802788e+04]\n",
            " [4.70705902e+01 8.07098390e+04]\n",
            " [4.18076397e+01 7.95235748e+04]\n",
            " [3.90490584e+01 7.35165789e+04]\n",
            " [3.62967505e+01 2.93548248e+04]\n",
            " [3.88067588e+01 6.12989152e+04]\n",
            " [2.62443824e+01 6.13471666e+04]\n",
            " [2.07768912e+01 2.56426419e+04]\n",
            " [2.60097999e+01 3.69483513e+04]\n",
            " [3.68088102e+01 8.12824122e+04]\n",
            " [2.98432039e+01 1.00000000e+05]\n",
            " [4.19628357e+01 6.34792556e+04]\n",
            " [4.29084570e+01 5.58967506e+04]\n",
            " [3.15183734e+01 3.52772568e+04]\n",
            " [4.44492861e+01 7.80397881e+04]\n",
            " [3.86520504e+01 5.77934256e+04]\n",
            " [2.98597461e+01 4.94642315e+04]\n",
            " [3.18710838e+01 5.68627176e+04]\n",
            " [3.51243059e+01 7.14804800e+04]\n",
            " [4.36229793e+01 4.39387766e+04]\n",
            " [2.78047431e+01 3.86511302e+04]\n",
            " [4.14575777e+01 7.59232499e+04]\n",
            " [2.64102406e+01 5.53887145e+04]\n",
            " [2.47085321e+01 5.81645968e+04]\n",
            " [3.82419630e+01 5.28409131e+04]\n",
            " [5.30739074e+01 6.53448407e+04]\n",
            " [3.81654874e+01 2.87283204e+04]\n",
            " [2.64081753e+01 2.83492112e+04]\n",
            " [1.98456916e+01 1.92957707e+04]\n",
            " [4.64672263e+01 6.89877084e+04]\n",
            " [2.78707542e+01 2.35527653e+04]\n",
            " [3.76250690e+01 5.10373533e+04]\n",
            " [1.56195277e+01 3.15306152e+04]\n",
            " [4.27702221e+01 7.06512880e+04]\n",
            " [2.97700309e+01 7.25353009e+04]\n",
            " [3.05759060e+01 6.57428549e+04]\n",
            " [3.17184722e+01 7.30469351e+04]\n",
            " [4.13595971e+01 7.31578464e+04]\n",
            " [2.72932799e+01 5.25870476e+04]\n",
            " [1.28660315e+01 2.71482792e+04]\n",
            " [5.63840412e+01 6.07822398e+04]\n",
            " [2.46473139e+01 4.42890324e+04]\n",
            " [2.88636415e+01 5.55952863e+04]]\n"
          ],
          "name": "stdout"
        }
      ]
    },
    {
      "cell_type": "code",
      "metadata": {
        "colab": {
          "base_uri": "https://localhost:8080/"
        },
        "id": "BsA8Vect5K4W",
        "outputId": "cbcca46a-3eb9-4924-8290-3f76c93ffcf5"
      },
      "source": [
        "print(y)"
      ],
      "execution_count": 9,
      "outputs": [
        {
          "output_type": "stream",
          "text": [
            "[0 0 1 0 0 0 1 1 0 1 1 0 0 1 0 1 0 0 1 1 0 0 1 1 1 0 0 0 1 1 0 1 1 1 0 0 1\n",
            " 1 0 1 1 0 0 0 0 1 0 1 0 1 0 0 1 0 1 0 0 1 1 1 1 1 0 0 0 1 1 1 1 0 1 1 0 1\n",
            " 1 0 0 1 0 0 0 1 0 0 0 1 0 1 0 1 1 1 1 1 1 0 1 1 0]\n"
          ],
          "name": "stdout"
        }
      ]
    },
    {
      "cell_type": "code",
      "metadata": {
        "id": "FUHgnguq5Mnh"
      },
      "source": [
        "from sklearn.model_selection import train_test_split\n",
        "x_train, x_test, y_train, y_test = train_test_split(x, y, test_size=0.25, random_state=0)"
      ],
      "execution_count": 10,
      "outputs": []
    },
    {
      "cell_type": "code",
      "metadata": {
        "colab": {
          "base_uri": "https://localhost:8080/"
        },
        "id": "tXEdObkX5Q1E",
        "outputId": "624a1bfc-cf16-4dc1-8547-910fcc713d28"
      },
      "source": [
        "print(x_train)"
      ],
      "execution_count": 11,
      "outputs": [
        {
          "output_type": "stream",
          "text": [
            "[[2.48281717e+01 4.31269171e+04]\n",
            " [5.20099460e+01 8.06426522e+04]\n",
            " [2.88636415e+01 5.55952863e+04]\n",
            " [3.81654874e+01 2.87283204e+04]\n",
            " [2.78047431e+01 3.86511302e+04]\n",
            " [3.62967505e+01 2.93548248e+04]\n",
            " [3.82419630e+01 5.28409131e+04]\n",
            " [4.27702221e+01 7.06512880e+04]\n",
            " [4.29084570e+01 5.58967506e+04]\n",
            " [2.89448700e+01 2.98994691e+04]\n",
            " [2.55977957e+01 5.36307638e+04]\n",
            " [4.65407082e+01 4.86634947e+04]\n",
            " [2.63876221e+01 3.70802788e+04]\n",
            " [2.07768912e+01 2.56426419e+04]\n",
            " [3.51243059e+01 7.14804800e+04]\n",
            " [2.56496480e+09 5.53300601e+04]\n",
            " [3.88067588e+01 6.12989152e+04]\n",
            " [2.24559772e+01 4.77700703e+04]\n",
            " [1.99109736e+01 3.28945211e+04]\n",
            " [3.32725720e+01 5.41270171e+04]\n",
            " [4.88701755e+01 3.47744441e+04]\n",
            " [2.53136952e+01 4.37639976e+04]\n",
            " [3.60573969e+01 6.52029101e+04]\n",
            " [2.48281717e+01 4.31269171e+04]\n",
            " [3.45308979e+01 3.02219371e+04]\n",
            " [2.97700309e+01 7.25353009e+04]\n",
            " [3.90490584e+01 7.35165789e+04]\n",
            " [2.56769196e+01 2.98514115e+04]\n",
            " [3.67657158e+01 5.34644264e+04]\n",
            " [4.22491897e+01 3.22150995e+04]\n",
            " [3.05154930e+01 1.20660167e+04]\n",
            " [3.42497288e+01 3.73551128e+04]\n",
            " [3.59575676e+01 2.36833077e+04]\n",
            " [3.07288550e+01 6.70222730e+04]\n",
            " [4.09839628e+01 4.55914541e+04]\n",
            " [5.40393248e+01 3.71433554e+04]\n",
            " [3.98205393e+01 7.05033132e+04]\n",
            " [2.98432039e+01 1.00000000e+05]\n",
            " [4.70705902e+01 8.07098390e+04]\n",
            " [2.47085321e+01 5.81645968e+04]\n",
            " [4.64672263e+01 6.89877084e+04]\n",
            " [3.07288550e+01 6.70222730e+04]\n",
            " [1.98456916e+01 1.92957707e+04]\n",
            " [2.47615633e+01 3.84844232e+04]\n",
            " [1.56195277e+01 3.15306152e+04]\n",
            " [3.77165819e+01 6.46959770e+04]\n",
            " [3.71359218e+01 5.17336572e+04]\n",
            " [3.85916733e+01 5.45242749e+04]\n",
            " [5.63840412e+01 6.07822398e+04]\n",
            " [2.46473139e+01 4.42890324e+04]\n",
            " [3.15183734e+01 3.52772568e+04]\n",
            " [3.24431111e+01 5.16776990e+04]\n",
            " [4.13595971e+01 7.31578464e+04]\n",
            " [2.98597461e+01 4.94642315e+04]\n",
            " [4.14575777e+01 7.59232499e+04]\n",
            " [3.24431111e+01 5.16776990e+04]\n",
            " [3.45416750e+01 7.81564644e+04]\n",
            " [5.30739074e+01 6.53448407e+04]\n",
            " [2.74038095e+01 4.80260228e+04]\n",
            " [3.12469528e+01 7.60643837e+04]\n",
            " [3.68088102e+01 8.12824122e+04]\n",
            " [4.18076397e+01 7.95235748e+04]\n",
            " [2.50567822e+01 1.77599339e+04]\n",
            " [4.44492861e+01 7.80397881e+04]\n",
            " [3.76250690e+01 5.10373533e+04]\n",
            " [4.19899262e+01 5.47269945e+04]\n",
            " [1.99366738e+01 3.42637885e+04]\n",
            " [2.64081753e+01 2.83492112e+04]\n",
            " [4.06982326e+01 3.42811188e+04]\n",
            " [1.28660315e+01 2.71482792e+04]\n",
            " [4.19628357e+01 6.34792556e+04]\n",
            " [2.60097999e+01 3.69483513e+04]\n",
            " [3.90490584e+01 7.35165789e+04]\n",
            " [1.88815858e+01 5.25189951e+04]]\n"
          ],
          "name": "stdout"
        }
      ]
    },
    {
      "cell_type": "code",
      "metadata": {
        "colab": {
          "base_uri": "https://localhost:8080/"
        },
        "id": "njtlfFtB5ZA2",
        "outputId": "353f290b-b3f8-47f8-e538-a51686dcd62c"
      },
      "source": [
        "print(x_test)"
      ],
      "execution_count": 12,
      "outputs": [
        {
          "output_type": "stream",
          "text": [
            "[[1.71035757e+01 6.16617652e+04]\n",
            " [2.78707542e+01 2.35527653e+04]\n",
            " [3.24561067e+08 7.90490767e+04]\n",
            " [2.74320282e+01 4.08144763e+04]\n",
            " [4.36229793e+01 4.39387766e+04]\n",
            " [3.17184722e+01 7.30469351e+04]\n",
            " [2.78338319e+01 5.16444933e+04]\n",
            " [3.18710838e+01 5.68627176e+04]\n",
            " [6.00000000e+01 7.64991193e+04]\n",
            " [2.72932799e+01 5.25870476e+04]\n",
            " [2.76038406e+01 3.22423240e+04]\n",
            " [3.05759060e+01 6.57428549e+04]\n",
            " [2.64102406e+01 5.53887145e+04]\n",
            " [4.10959602e+01 4.94633813e+04]\n",
            " [4.28813696e+01 6.19083982e+04]\n",
            " [1.99366738e+01 3.42637885e+04]\n",
            " [3.98205393e+01 7.05033132e+04]\n",
            " [2.40435827e+01 3.64747097e+04]\n",
            " [2.40435827e+01 3.64747097e+04]\n",
            " [2.56769196e+01 2.98514115e+04]\n",
            " [1.90893032e+01 3.92798893e+04]\n",
            " [2.62443824e+01 6.13471666e+04]\n",
            " [2.96873619e+01 4.10988788e+04]\n",
            " [3.86520504e+01 5.77934256e+04]\n",
            " [2.07144638e+01 3.39930522e+04]]\n"
          ],
          "name": "stdout"
        }
      ]
    },
    {
      "cell_type": "code",
      "metadata": {
        "colab": {
          "base_uri": "https://localhost:8080/"
        },
        "id": "BepRU8kB5bIQ",
        "outputId": "e42b5627-28cf-437a-aea9-00e6a2dcda63"
      },
      "source": [
        "print(y_train)"
      ],
      "execution_count": 13,
      "outputs": [
        {
          "output_type": "stream",
          "text": [
            "[0 1 0 0 0 1 0 1 1 0 0 1 0 0 1 0 1 0 0 0 1 0 1 0 0 1 1 0 0 1 0 0 0 1 1 1 1\n",
            " 1 1 0 1 1 0 0 0 1 1 1 1 1 0 0 1 0 1 0 1 1 0 1 1 1 0 1 1 1 0 0 1 0 1 0 1 0]\n"
          ],
          "name": "stdout"
        }
      ]
    },
    {
      "cell_type": "code",
      "metadata": {
        "colab": {
          "base_uri": "https://localhost:8080/"
        },
        "id": "MltxfSus5gpG",
        "outputId": "83b490b9-1fe3-454a-de32-6dd14415d0f5"
      },
      "source": [
        "print(y_test)"
      ],
      "execution_count": 14,
      "outputs": [
        {
          "output_type": "stream",
          "text": [
            "[0 0 1 0 0 1 0 1 1 1 0 1 0 1 1 0 1 1 1 0 0 0 0 1 1]\n"
          ],
          "name": "stdout"
        }
      ]
    },
    {
      "cell_type": "code",
      "metadata": {
        "id": "Tot0BCZU5iLl"
      },
      "source": [
        "from sklearn.preprocessing import StandardScaler\n",
        "sc = StandardScaler()\n",
        "x_train = sc.fit_transform(x_train)\n",
        "x_test = sc.fit_transform(x_test)"
      ],
      "execution_count": 15,
      "outputs": []
    },
    {
      "cell_type": "code",
      "metadata": {
        "colab": {
          "base_uri": "https://localhost:8080/"
        },
        "id": "gWTPa7dq5m2L",
        "outputId": "5e75153c-5db7-4a9e-e25d-ec277237c1d8"
      },
      "source": [
        "print(x_train)"
      ],
      "execution_count": 16,
      "outputs": [
        {
          "output_type": "stream",
          "text": [
            "[[-0.11704118 -0.4446268 ]\n",
            " [-0.11704109  1.57289812]\n",
            " [-0.11704116  0.22589839]\n",
            " [-0.11704113 -1.21895597]\n",
            " [-0.11704117 -0.68532612]\n",
            " [-0.11704114 -1.18526375]\n",
            " [-0.11704113  0.07777344]\n",
            " [-0.11704112  1.03558155]\n",
            " [-0.11704112  0.24211057]\n",
            " [-0.11704116 -1.15597382]\n",
            " [-0.11704118  0.12025011]\n",
            " [-0.1170411  -0.14688019]\n",
            " [-0.11704117 -0.76980352]\n",
            " [-0.11704119 -1.38489789]\n",
            " [-0.11704114  1.08017392]\n",
            " [ 8.54400375  0.21163503]\n",
            " [-0.11704113  0.53262871]\n",
            " [-0.11704119 -0.19492685]\n",
            " [-0.11704119 -0.99490561]\n",
            " [-0.11704115  0.14693767]\n",
            " [-0.1170411  -0.89380693]\n",
            " [-0.11704118 -0.41036583]\n",
            " [-0.11704114  0.74257814]\n",
            " [-0.11704118 -0.4446268 ]\n",
            " [-0.11704115 -1.1386321 ]\n",
            " [-0.11704116  1.13690018]\n",
            " [-0.11704113  1.18967144]\n",
            " [-0.11704118 -1.15855826]\n",
            " [-0.11704114  0.1113048 ]\n",
            " [-0.11704112 -1.03144361]\n",
            " [-0.11704116 -2.11502299]\n",
            " [-0.11704115 -0.75502347]\n",
            " [-0.11704114 -1.49026716]\n",
            " [-0.11704116  0.84042002]\n",
            " [-0.11704112 -0.31208869]\n",
            " [-0.11704108 -0.76641138]\n",
            " [-0.11704113  1.02762374]\n",
            " [-0.11704116  2.61389949]\n",
            " [-0.1170411   1.5765113 ]\n",
            " [-0.11704118  0.36407103]\n",
            " [-0.11704111  0.9461174 ]\n",
            " [-0.11704116  0.84042002]\n",
            " [-0.11704119 -1.72622056]\n",
            " [-0.11704118 -0.6942913 ]\n",
            " [-0.11704121 -1.06825388]\n",
            " [-0.11704113  0.71531624]\n",
            " [-0.11704114  0.01822732]\n",
            " [-0.11704113  0.16830144]\n",
            " [-0.11704107  0.50484289]\n",
            " [-0.11704118 -0.38213045]\n",
            " [-0.11704116 -0.86676661]\n",
            " [-0.11704115  0.015218  ]\n",
            " [-0.11704112  1.1703795 ]\n",
            " [-0.11704116 -0.10381808]\n",
            " [-0.11704112  1.31909764]\n",
            " [-0.11704115  0.015218  ]\n",
            " [-0.11704115  1.43919567]\n",
            " [-0.11704108  0.7502109 ]\n",
            " [-0.11704117 -0.18116221]\n",
            " [-0.11704116  1.32668755]\n",
            " [-0.11704114  1.6073032 ]\n",
            " [-0.11704112  1.51271627]\n",
            " [-0.11704118 -1.80881495]\n",
            " [-0.11704111  1.43292104]\n",
            " [-0.11704113 -0.01921858]\n",
            " [-0.11704112  0.17920331]\n",
            " [-0.11704119 -0.92126901]\n",
            " [-0.11704117 -1.23934374]\n",
            " [-0.11704112 -0.92033702]\n",
            " [-0.11704122 -1.30392758]\n",
            " [-0.11704112  0.64988327]\n",
            " [-0.11704117 -0.77689833]\n",
            " [-0.11704113  1.18967144]\n",
            " [-0.1170412   0.0604613 ]]\n"
          ],
          "name": "stdout"
        }
      ]
    },
    {
      "cell_type": "code",
      "metadata": {
        "colab": {
          "base_uri": "https://localhost:8080/"
        },
        "id": "fkn3YPDn5oSW",
        "outputId": "a3deeaf8-308e-4b93-89f6-8b69dd352ea2"
      },
      "source": [
        "print(x_test)"
      ],
      "execution_count": 17,
      "outputs": [
        {
          "output_type": "stream",
          "text": [
            "[[-0.20412436  0.71912405]\n",
            " [-0.20412419 -1.76267386]\n",
            " [ 4.89897949  1.85144958]\n",
            " [-0.20412419 -0.6385279 ]\n",
            " [-0.20412394 -0.435062  ]\n",
            " [-0.20412413  1.4605681 ]\n",
            " [-0.20412419  0.06676255]\n",
            " [-0.20412412  0.40659246]\n",
            " [-0.20412368  1.685387  ]\n",
            " [-0.2041242   0.12814515]\n",
            " [-0.20412419 -1.19677791]\n",
            " [-0.20412414  0.98489959]\n",
            " [-0.20412421  0.31059997]\n",
            " [-0.20412398 -0.07527947]\n",
            " [-0.20412395  0.7351857 ]\n",
            " [-0.20412431 -1.06513272]\n",
            " [-0.204124    1.2949181 ]\n",
            " [-0.20412425 -0.92114942]\n",
            " [-0.20412425 -0.92114942]\n",
            " [-0.20412422 -1.3524829 ]\n",
            " [-0.20412432 -0.73846583]\n",
            " [-0.20412421  0.69863624]\n",
            " [-0.20412416 -0.62000656]\n",
            " [-0.20412402  0.46720359]\n",
            " [-0.2041243  -1.08276407]]\n"
          ],
          "name": "stdout"
        }
      ]
    },
    {
      "cell_type": "code",
      "metadata": {
        "colab": {
          "base_uri": "https://localhost:8080/"
        },
        "id": "4KoJmd_y5rA4",
        "outputId": "504ed0b6-aef5-4be1-d435-f6cf2c1de974"
      },
      "source": [
        "from sklearn.naive_bayes import GaussianNB\n",
        "classifier = GaussianNB()\n",
        "classifier.fit(x_train, y_train)"
      ],
      "execution_count": 18,
      "outputs": [
        {
          "output_type": "execute_result",
          "data": {
            "text/plain": [
              "GaussianNB(priors=None, var_smoothing=1e-09)"
            ]
          },
          "metadata": {
            "tags": []
          },
          "execution_count": 18
        }
      ]
    },
    {
      "cell_type": "code",
      "metadata": {
        "id": "p_1i24IU508R"
      },
      "source": [
        "y_pred = classifier.predict(x_test)"
      ],
      "execution_count": 20,
      "outputs": []
    },
    {
      "cell_type": "code",
      "metadata": {
        "colab": {
          "base_uri": "https://localhost:8080/"
        },
        "id": "ejaHzm095105",
        "outputId": "dca55d94-0621-4bd5-c6b0-fb3a3508fe4d"
      },
      "source": [
        "from sklearn.metrics import confusion_matrix\n",
        "cm = confusion_matrix(y_test, y_pred)\n",
        "print(cm)"
      ],
      "execution_count": 21,
      "outputs": [
        {
          "output_type": "stream",
          "text": [
            "[[12  0]\n",
            " [13  0]]\n"
          ],
          "name": "stdout"
        }
      ]
    },
    {
      "cell_type": "code",
      "metadata": {
        "colab": {
          "base_uri": "https://localhost:8080/",
          "height": 349
        },
        "id": "gAXzp5j76FwL",
        "outputId": "0b909854-f506-47c9-e3ca-ed34571da008"
      },
      "source": [
        "from matplotlib.colors import ListedColormap\n",
        "x_set, y_set = x_train, y_train\n",
        "x1, x2 = np.meshgrid(np.arange(start = x_set[:, 0].min() - 1, stop = x_set[:, 0].max() + 1, step = 0.01),\n",
        "                     np.arange(start = x_set[:, 1].min() - 1, stop = x_set[:, 1].max() + 1, step = 0.01))\n",
        "plt.contourf(x1,x2, classifier.predict(np.array([x1.ravel(), x2.ravel()]).T).reshape(x1.shape),\n",
        "            alpha = 0.75, cmap = ListedColormap(('pink','blue')))\n",
        "plt.xlim(x1.min(),x1.max())\n",
        "plt.xlim(x2.min(),x2.max())\n",
        "for i,j in enumerate(np.unique(y_set)):\n",
        "  plt.scatter(x_set[y_set == j, 0],x_set[y_set == j, 1],\n",
        "              c = ListedColormap(('pink','blue'))(i),label = j)\n",
        "plt.title('Klasifikasi Data dengan Naive Bayes(Data Training)')\n",
        "plt.xlabel('Time')\n",
        "plt.ylabel('Salary')\n",
        "plt.legend()\n",
        "plt.show()"
      ],
      "execution_count": 25,
      "outputs": [
        {
          "output_type": "stream",
          "text": [
            "*c* argument looks like a single numeric RGB or RGBA sequence, which should be avoided as value-mapping will have precedence in case its length matches with *x* & *y*.  Please use the *color* keyword-argument or provide a 2-D array with a single row if you intend to specify the same RGB or RGBA value for all points.\n",
            "*c* argument looks like a single numeric RGB or RGBA sequence, which should be avoided as value-mapping will have precedence in case its length matches with *x* & *y*.  Please use the *color* keyword-argument or provide a 2-D array with a single row if you intend to specify the same RGB or RGBA value for all points.\n"
          ],
          "name": "stderr"
        },
        {
          "output_type": "display_data",
          "data": {
            "image/png": "[encoded data removed]",
            "text/plain": [
              "<Figure size 432x288 with 1 Axes>"
            ]
          },
          "metadata": {
            "tags": [],
            "needs_background": "light"
          }
        }
      ]
    },
    {
      "cell_type": "code",
      "metadata": {
        "colab": {
          "base_uri": "https://localhost:8080/",
          "height": 349
        },
        "id": "zzLtxyFs6Xbe",
        "outputId": "f50661d0-59ae-4402-a9a2-355611884977"
      },
      "source": [
        "from matplotlib.colors import ListedColormap\n",
        "x_set, y_set = x_test, y_test\n",
        "x1, x2 = np.meshgrid(np.arange(start = x_set[:, 0].min() - 1, stop = x_set[:, 0].max() + 1, step = 0.01),\n",
        "                     np.arange(start = x_set[:, 1].min() - 1, stop = x_set[:, 1].max() + 1, step = 0.01))\n",
        "plt.contourf(x1,x2, classifier.predict(np.array([x1.ravel(), x2.ravel()]).T).reshape(x1.shape),\n",
        "            alpha = 0.75, cmap = ListedColormap(('pink','blue')))\n",
        "plt.xlim(x1.min(),x1.max())\n",
        "plt.xlim(x2.min(),x2.max())\n",
        "for i,j in enumerate(np.unique(y_set)):\n",
        "  plt.scatter(x_set[y_set == j, 0],x_set[y_set == j, 1],\n",
        "              c = ListedColormap(('pink','blue'))(i),label = j)\n",
        "plt.title('Klasifikasi Data dengan Naive Bayes(Data Training)')\n",
        "plt.xlabel('Time')\n",
        "plt.ylabel('Salary')\n",
        "plt.legend()\n",
        "plt.show()"
      ],
      "execution_count": 26,
      "outputs": [
        {
          "output_type": "stream",
          "text": [
            "*c* argument looks like a single numeric RGB or RGBA sequence, which should be avoided as value-mapping will have precedence in case its length matches with *x* & *y*.  Please use the *color* keyword-argument or provide a 2-D array with a single row if you intend to specify the same RGB or RGBA value for all points.\n",
            "*c* argument looks like a single numeric RGB or RGBA sequence, which should be avoided as value-mapping will have precedence in case its length matches with *x* & *y*.  Please use the *color* keyword-argument or provide a 2-D array with a single row if you intend to specify the same RGB or RGBA value for all points.\n"
          ],
          "name": "stderr"
        },
        {
          "output_type": "display_data",
          "data": {
            "image/png": "[encoded data removed]",
            "text/plain": [
              "<Figure size 432x288 with 1 Axes>"
            ]
          },
          "metadata": {
            "tags": [],
            "needs_background": "light"
          }
        }
      ]
    }
  ]
}